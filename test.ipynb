{
 "cells": [
  {
   "cell_type": "code",
   "execution_count": 1,
   "metadata": {
    "vscode": {
     "languageId": "powershell"
    }
   },
   "outputs": [],
   "source": [
    "from test import SudokuGenerator\n"
   ]
  },
  {
   "cell_type": "code",
   "execution_count": 2,
   "metadata": {
    "vscode": {
     "languageId": "powershell"
    }
   },
   "outputs": [
    {
     "name": "stdout",
     "output_type": "stream",
     "text": [
      "[[6, 9, 5, 3, 1, 8, 4, 2, 7], [1, 4, 7, 6, 5, 2, 3, 9, 8], [3, 2, 8, 4, 7, 9, 6, 5, 1], [7, 1, 9, 8, 2, 3, 5, 4, 6], [2, 6, 3, 7, 4, 5, 8, 1, 9], [8, 5, 4, 1, 9, 6, 7, 3, 2], [9, 3, 6, 5, 8, 1, 2, 7, 4], [4, 8, 1, 2, 3, 7, 9, 6, 5], [5, 7, 2, 9, 6, 4, 1, 8, 3]]\n",
      "full solution\n",
      "[6, 9, 5, 3, 1, 8, 4, 2, 7]\n",
      "[1, 4, 7, 6, 5, 2, 3, 9, 8]\n",
      "[3, 2, 8, 4, 7, 9, 6, 5, 1]\n",
      "[7, 1, 9, 8, 2, 3, 5, 4, 6]\n",
      "[2, 6, 3, 7, 4, 5, 8, 1, 9]\n",
      "[8, 5, 4, 1, 9, 6, 7, 3, 2]\n",
      "[9, 3, 6, 5, 8, 1, 2, 7, 4]\n",
      "[4, 8, 1, 2, 3, 7, 9, 6, 5]\n",
      "[5, 7, 2, 9, 6, 4, 1, 8, 3]\n",
      "[[6, 9, 5, 3, 1, 8, 4, 2, 7], [1, 4, 7, 6, 5, 2, 3, 9, 8], [3, 2, 8, 4, 7, 9, 6, 5, 1], [7, 1, 9, 8, 2, 3, 5, 4, 6], [2, 6, 3, 7, 4, 5, 8, 1, 9], [8, 5, 4, 1, 9, 6, 7, 3, 2], [9, 3, 6, 5, 8, 1, 2, 7, 4], [4, 8, 1, 2, 3, 7, 9, 6, 5], [5, 7, 2, 9, 6, 4, 1, 8, 3]]\n",
      "[[6, 9, 0, 0, 0, 0, 0, 0, 7], [1, 0, 7, 6, 5, 2, 0, 0, 0], [0, 0, 0, 4, 0, 0, 0, 5, 1], [7, 0, 0, 8, 0, 3, 0, 0, 0], [2, 0, 3, 0, 4, 0, 0, 0, 0], [0, 5, 0, 1, 0, 0, 7, 0, 2], [9, 0, 0, 5, 8, 1, 2, 0, 0], [4, 8, 0, 0, 0, 0, 0, 0, 0], [5, 0, 0, 0, 0, 4, 1, 0, 3]]\n",
      "with removed numbers\n",
      "[6, 9, 0, 0, 0, 0, 0, 0, 7]\n",
      "[1, 0, 7, 6, 5, 2, 0, 0, 0]\n",
      "[0, 0, 0, 4, 0, 0, 0, 5, 1]\n",
      "[7, 0, 0, 8, 0, 3, 0, 0, 0]\n",
      "[2, 0, 3, 0, 4, 0, 0, 0, 0]\n",
      "[0, 5, 0, 1, 0, 0, 7, 0, 2]\n",
      "[9, 0, 0, 5, 8, 1, 2, 0, 0]\n",
      "[4, 8, 0, 0, 0, 0, 0, 0, 0]\n",
      "[5, 0, 0, 0, 0, 4, 1, 0, 3]\n",
      "[[6, 9, 0, 0, 0, 0, 0, 0, 7], [1, 0, 7, 6, 5, 2, 0, 0, 0], [0, 0, 0, 4, 0, 0, 0, 5, 1], [7, 0, 0, 8, 0, 3, 0, 0, 0], [2, 0, 3, 0, 4, 0, 0, 0, 0], [0, 5, 0, 1, 0, 0, 7, 0, 2], [9, 0, 0, 5, 8, 1, 2, 0, 0], [4, 8, 0, 0, 0, 0, 0, 0, 0], [5, 0, 0, 0, 0, 4, 1, 0, 3]]\n"
     ]
    }
   ],
   "source": [
    "new_puzzle = SudokuGenerator()\n"
   ]
  },
  {
   "cell_type": "code",
   "execution_count": 3,
   "metadata": {
    "vscode": {
     "languageId": "powershell"
    }
   },
   "outputs": [
    {
     "name": "stdout",
     "output_type": "stream",
     "text": [
      "[[6, 9, 0, 0, 0, 0, 0, 0, 7], [1, 0, 7, 6, 5, 2, 0, 0, 0], [0, 0, 0, 4, 0, 0, 0, 5, 1], [7, 0, 0, 8, 0, 3, 0, 0, 0], [2, 0, 3, 0, 4, 0, 0, 0, 0], [0, 5, 0, 1, 0, 0, 7, 0, 2], [9, 0, 0, 5, 8, 1, 2, 0, 0], [4, 8, 0, 0, 0, 0, 0, 0, 0], [5, 0, 0, 0, 0, 4, 1, 0, 3]]\n",
      "with removed numbers\n",
      "[6, 9, 0, 0, 0, 0, 0, 0, 7]\n",
      "[1, 0, 7, 6, 5, 2, 0, 0, 0]\n",
      "[0, 0, 0, 4, 0, 0, 0, 5, 1]\n",
      "[7, 0, 0, 8, 0, 3, 0, 0, 0]\n",
      "[2, 0, 3, 0, 4, 0, 0, 0, 0]\n",
      "[0, 5, 0, 1, 0, 0, 7, 0, 2]\n",
      "[9, 0, 0, 5, 8, 1, 2, 0, 0]\n",
      "[4, 8, 0, 0, 0, 0, 0, 0, 0]\n",
      "[5, 0, 0, 0, 0, 4, 1, 0, 3]\n",
      "[[6, 9, 0, 0, 0, 0, 0, 0, 7], [1, 0, 7, 6, 5, 2, 0, 0, 0], [0, 0, 0, 4, 0, 0, 0, 5, 1], [7, 0, 0, 8, 0, 3, 0, 0, 0], [2, 0, 3, 0, 4, 0, 0, 0, 0], [0, 5, 0, 1, 0, 0, 7, 0, 2], [9, 0, 0, 5, 8, 1, 2, 0, 0], [4, 8, 0, 0, 0, 0, 0, 0, 0], [5, 0, 0, 0, 0, 4, 1, 0, 3]]\n"
     ]
    }
   ],
   "source": [
    "a = new_puzzle.print_grid('with removed numbers')"
   ]
  },
  {
   "cell_type": "code",
   "execution_count": 5,
   "metadata": {
    "vscode": {
     "languageId": "powershell"
    }
   },
   "outputs": [
    {
     "data": {
      "text/plain": [
       "[[6, 9, 0, 0, 0, 0, 0, 0, 7],\n",
       " [1, 0, 7, 6, 5, 2, 0, 0, 0],\n",
       " [0, 0, 0, 4, 0, 0, 0, 5, 1],\n",
       " [7, 0, 0, 8, 0, 3, 0, 0, 0],\n",
       " [2, 0, 3, 0, 4, 0, 0, 0, 0],\n",
       " [0, 5, 0, 1, 0, 0, 7, 0, 2],\n",
       " [9, 0, 0, 5, 8, 1, 2, 0, 0],\n",
       " [4, 8, 0, 0, 0, 0, 0, 0, 0],\n",
       " [5, 0, 0, 0, 0, 4, 1, 0, 3]]"
      ]
     },
     "execution_count": 5,
     "metadata": {},
     "output_type": "execute_result"
    }
   ],
   "source": [
    "a"
   ]
  },
  {
   "cell_type": "code",
   "execution_count": null,
   "metadata": {
    "vscode": {
     "languageId": "powershell"
    }
   },
   "outputs": [],
   "source": [
    "def generate_solution(self, grid):\n",
    "    \"\"\"generates a full solution with backtracking\"\"\"\n",
    "    number_list = [1,2,3,4,5,6,7,8,9]\n",
    "    for i in range(0,81):\n",
    "        row=i//9\n",
    "        col=i%9\n",
    "        #find next empty cell\n",
    "        if grid[row][col]==0:\n",
    "            shuffle(number_list)      \n",
    "            for number in number_list:\n",
    "                if self.valid_location(grid,row,col,number):\n",
    "                    self.path.append((number,row,col))\n",
    "                    grid[row][col]=number\n",
    "                    if not self.find_empty_square(grid):\n",
    "                        return True\n",
    "                    else:\n",
    "                        if self.generate_solution(grid):\n",
    "                            #if the grid is full\n",
    "                            return True\n",
    "            break\n",
    "    grid[row][col]=0  \n",
    "    return False\n"
   ]
  },
  {
   "cell_type": "code",
   "execution_count": null,
   "metadata": {
    "vscode": {
     "languageId": "powershell"
    }
   },
   "outputs": [],
   "source": [
    "def remove_numbers_from_grid(self):\n",
    "    \"\"\"remove numbers from the grid to create the puzzle\"\"\"\n",
    "    #get all non-empty squares from the grid\n",
    "    non_empty_squares = self.get_non_empty_squares(self.grid)\n",
    "    non_empty_squares_count = len(non_empty_squares)\n",
    "    rounds = 3\n",
    "    while rounds > 0 and non_empty_squares_count >= 17:\n",
    "        #there should be at least 17 clues\n",
    "        row,col = non_empty_squares.pop()\n",
    "        non_empty_squares_count -= 1\n",
    "        #might need to put the square value back if there is more than one solution\n",
    "        removed_square = self.grid[row][col]\n",
    "        self.grid[row][col]=0\n",
    "        #make a copy of the grid to solve\n",
    "        grid_copy = copy.deepcopy(self.grid)\n",
    "        #initialize solutions counter to zero\n",
    "        self.counter=0      \n",
    "        self.solve_puzzle(grid_copy)   \n",
    "        #if there is more than one solution, put the last removed cell back into the grid\n",
    "        if self.counter!=1:\n",
    "            self.grid[row][col]=removed_square\n",
    "            non_empty_squares_count += 1\n",
    "            rounds -=1\n",
    "    return"
   ]
  },
  {
   "cell_type": "code",
   "execution_count": 9,
   "metadata": {},
   "outputs": [
    {
     "name": "stdout",
     "output_type": "stream",
     "text": [
      "1\n",
      "[['1', ' ', ' ', ' ', ' ', ' ', ' ', ' ', ' '], [' ', ' ', ' ', ' ', ' ', ' ', ' ', ' ', ' '], [' ', ' ', ' ', ' ', ' ', ' ', ' ', ' ', ' '], [' ', ' ', ' ', ' ', ' ', ' ', ' ', ' ', ' '], [' ', ' ', ' ', ' ', ' ', ' ', ' ', ' ', ' '], [' ', ' ', ' ', ' ', ' ', ' ', ' ', ' ', ' '], [' ', ' ', ' ', ' ', ' ', ' ', ' ', ' ', ' '], [' ', ' ', ' ', ' ', ' ', ' ', ' ', ' ', ' '], [' ', ' ', ' ', ' ', ' ', ' ', ' ', ' ', ' ']]\n"
     ]
    }
   ],
   "source": [
    "class B():\n",
    "    def __init__(self):\n",
    "        self.board = [[' ']*9 for i in range(9)]\n",
    "        \n",
    "    def m(self, a, option=[0,0]):\n",
    "        match a:\n",
    "            case num if num in range(49,58):\n",
    "                self.board[option[0]][option[1]] = chr(num)\n",
    "                print(self.board[option[0]][option[1]])\n",
    "\n",
    "b = B()\n",
    "b.m(49, [0,0])\n",
    "print(b.board)\n"
   ]
  }
 ],
 "metadata": {
  "kernelspec": {
   "display_name": "env_sudoku",
   "language": "python",
   "name": "python3"
  },
  "language_info": {
   "codemirror_mode": {
    "name": "ipython",
    "version": 3
   },
   "file_extension": ".py",
   "mimetype": "text/x-python",
   "name": "python",
   "nbconvert_exporter": "python",
   "pygments_lexer": "ipython3",
   "version": "3.10.9"
  },
  "orig_nbformat": 4,
  "vscode": {
   "interpreter": {
    "hash": "c3e8e352dae16023969e7d3f1abd8c77f3b6e8b3e92af359e4aeef4f0d21f82d"
   }
  }
 },
 "nbformat": 4,
 "nbformat_minor": 2
}
